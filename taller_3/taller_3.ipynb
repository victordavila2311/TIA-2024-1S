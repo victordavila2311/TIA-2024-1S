{
 "cells": [
  {
   "cell_type": "markdown",
   "metadata": {},
   "source": [
    "# Taller 3\n",
    "Presentado por\n",
    "### Victor Manuel Dávila\n",
    "### Oscar Javier Restrepo\n",
    "### Daniel Lozano Barrero"
   ]
  },
  {
   "cell_type": "code",
   "execution_count": 2,
   "metadata": {},
   "outputs": [],
   "source": [
    "import cv2\n",
    "import numpy as np\n",
    "import matplotlib.pyplot as plt"
   ]
  },
  {
   "cell_type": "code",
   "execution_count": 6,
   "metadata": {},
   "outputs": [],
   "source": [
    "img = cv2.imread('test.png')\n",
    "\n",
    "height, width, channels = img.shape\n",
    "\n",
    "def hitOrMiss(A, B):\n",
    "    B1 = np.copy(B)\n",
    "    B2 = np.copy(B)\n",
    "\n",
    "    for i in range(len(B1)):\n",
    "        for j in range(len(B1[0])):\n",
    "            if B1[i][j] == 'x': B1[i][j] = 0\n",
    "\n",
    "    for i in range(len(B2)):\n",
    "        for j in range(len(B2[0])):\n",
    "            if B2[i][j] == 'x' or B2[i][j] == '1': B2[i][j] = 0\n",
    "            elif B2[i][j] == '0': B2[i][j] = 1\n",
    "\n",
    "    A_c = cv2.bitwise_not(A)\n",
    "    HM1 = cv2.erode(A, B1, 1)\n",
    "    HM2 = cv2.erode(A_c, B2, 1)\n",
    "    HM = cv2.bitwise_and(HM1, HM2)\n",
    "\n",
    "    return HM\n",
    "\n",
    "def thinning(A):\n",
    "    B = cv2.getStructuringElement(cv2.MORPH_RECT, (5, 5), (0, 0))\n",
    "    HM = hitOrMiss(A, B)\n",
    "    thinned = A - HM\n",
    "    return thinned\n",
    "\n",
    "thinned = thinning(img)\n",
    "\n",
    "cv2.imshow('Original', img)\n",
    "cv2.waitKey()\n",
    "cv2.imshow('Adelgazada', thinned)\n",
    "cv2.waitKey(0)\n",
    "cv2.destroyAllWindows()"
   ]
  },
  {
   "cell_type": "code",
   "execution_count": 10,
   "metadata": {},
   "outputs": [],
   "source": [
    "img = cv2.imread('test.png')\n",
    "\n",
    "def getSk(A, B, k):\n",
    "    Sk0 = cv2.erode(A, B, iterations = k)\n",
    "    Sk = Sk0 - cv2.morphologyEx(Sk0, cv2.MORPH_OPEN, B)\n",
    "    return Sk\n",
    "\n",
    "def getSkeleton(A):\n",
    "    B = cv2.getStructuringElement(cv2.MORPH_RECT, (5, 5), (0, 0))\n",
    "\n",
    "    Sk = None\n",
    "    skeleton = np.zeros_like(A)\n",
    "    K = 10\n",
    "    for k in range(1, K):\n",
    "        Sk = getSk(A, B, k)\n",
    "        skeleton = cv2.bitwise_or(skeleton, Sk)\n",
    "\n",
    "    return skeleton\n",
    "\n",
    "skeleton = getSkeleton(img)\n",
    "\n",
    "cv2.imshow('Skeleton', skeleton)\n",
    "cv2.waitKey(0)\n",
    "cv2.destroyAllWindows()\n"
   ]
  }
 ],
 "metadata": {
  "kernelspec": {
   "display_name": "Python 3",
   "language": "python",
   "name": "python3"
  },
  "language_info": {
   "codemirror_mode": {
    "name": "ipython",
    "version": 3
   },
   "file_extension": ".py",
   "mimetype": "text/x-python",
   "name": "python",
   "nbconvert_exporter": "python",
   "pygments_lexer": "ipython3",
   "version": "3.11.8"
  }
 },
 "nbformat": 4,
 "nbformat_minor": 2
}
